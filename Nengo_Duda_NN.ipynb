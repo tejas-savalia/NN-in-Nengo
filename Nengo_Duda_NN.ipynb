{
 "cells": [
  {
   "cell_type": "markdown",
   "metadata": {},
   "source": [
    "# Imports"
   ]
  },
  {
   "cell_type": "code",
   "execution_count": 1,
   "metadata": {
    "collapsed": true
   },
   "outputs": [],
   "source": [
    "import nengo\n",
    "import numpy, math\n",
    "import matplotlib.pyplot as plt"
   ]
  },
  {
   "cell_type": "markdown",
   "metadata": {},
   "source": [
    "# Initializations"
   ]
  },
  {
   "cell_type": "code",
   "execution_count": 2,
   "metadata": {
    "collapsed": true
   },
   "outputs": [],
   "source": [
    "model = nengo.Network()\n",
    "\n",
    "epsilon = 0.12\n",
    "weights1 = numpy.random.uniform(-epsilon, epsilon, size = (2, 2))\n",
    "weights2 = numpy.random.uniform(-epsilon, epsilon, size = (2, 2))\n"
   ]
  },
  {
   "cell_type": "markdown",
   "metadata": {},
   "source": [
    "# Helper Functions"
   ]
  },
  {
   "cell_type": "markdown",
   "metadata": {},
   "source": [
    "Sigmoid: Returns sigmoid value of the passed argument"
   ]
  },
  {
   "cell_type": "code",
   "execution_count": 3,
   "metadata": {
    "collapsed": true
   },
   "outputs": [],
   "source": [
    "def sigmoid(x):\n",
    "    if x > -6:\n",
    "        sig = 1/(1+math.exp(-x))\n",
    "    else:\n",
    "        sig = 0\n",
    "    return sig\n"
   ]
  },
  {
   "cell_type": "markdown",
   "metadata": {},
   "source": [
    "Sigmoid Gradient: Used in Weight Update during Back Propagation"
   ]
  },
  {
   "cell_type": "code",
   "execution_count": 4,
   "metadata": {
    "collapsed": true
   },
   "outputs": [],
   "source": [
    "def sigmoid_grad(x):\n",
    "    sig_grad = sigmoid(x)*(1-sigmoid(x))\n",
    "    return sig_grad\n"
   ]
  },
  {
   "cell_type": "markdown",
   "metadata": {},
   "source": [
    "Delta. Difference between actual and expectation"
   ]
  },
  {
   "cell_type": "code",
   "execution_count": 5,
   "metadata": {
    "collapsed": true
   },
   "outputs": [],
   "source": [
    "def calculate_delta(actual, expectation):\n",
    "    return numpy.subtract(actual, expectation)"
   ]
  },
  {
   "cell_type": "markdown",
   "metadata": {},
   "source": [
    "Weight Update"
   ]
  },
  {
   "cell_type": "code",
   "execution_count": 6,
   "metadata": {
    "collapsed": true
   },
   "outputs": [],
   "source": [
    "def weight_update(weights1, weights2, delta):\n",
    "    weights1 = numpy.subtract(weights1, delta)\n",
    "    weights2 = numpy.subtract(weights2, delta)\n",
    "    return weights1, weights2"
   ]
  },
  {
   "cell_type": "markdown",
   "metadata": {},
   "source": [
    "# Model"
   ]
  },
  {
   "cell_type": "code",
   "execution_count": 7,
   "metadata": {
    "collapsed": true
   },
   "outputs": [],
   "source": [
    "def model_architecture(weights1, weights2, inp):\n",
    "    with model:\n",
    "        #input vector. Pixels to be identified\n",
    "        inp =  [1, 0]\n",
    "        Input = nengo.Node(inp)\n",
    "\n",
    "        Input_Node_1 = nengo.Ensemble(100, dimensions = 1)\n",
    "        Input_Node_2 = nengo.Ensemble(100, dimensions = 1)\n",
    "        Inp_Hidd_Weights_1 = nengo.Ensemble(100, dimensions = 1)\n",
    "        Inp_Hidd_Weights_2 = nengo.Ensemble(100, dimensions = 1)\n",
    "        Hidden_Node_1 = nengo.Ensemble(100, dimensions = 1)\n",
    "        Hidden_Node_2 = nengo.Ensemble(100, dimensions = 1)\n",
    "        Hidd_Out_Weights_1 = nengo.Ensemble(100, dimensions = 1)\n",
    "        Hidd_Out_Weights_2 = nengo.Ensemble(100, dimensions = 1)        \n",
    "        Output_Node_1 = nengo.Ensemble(100, dimensions = 1)\n",
    "        Output_Node_2 = nengo.Ensemble(100, dimensions = 1)\n",
    "\n",
    "        nengo.Connection(Input[0], Input_Node_1)\n",
    "        nengo.Connection(Input[1], Input_Node_2)\n",
    "        \n",
    "        \n",
    "        #Multiply activation with weights. Inp_Hidden_Weights_x represents the weighted inputs of node x\n",
    "        nengo.Connection(Input_Node_1, Inp_Hidd_Weights_1, transform = weights1[0][0])\n",
    "        nengo.Connection(Input_Node_2, Inp_Hidd_Weights_1, transform = weights1[1][0])\n",
    "        nengo.Connection(Input_Node_1, Inp_Hidd_Weights_2, transform = weights1[0][1])\n",
    "        nengo.Connection(Input_Node_2, Inp_Hidd_Weights_2, transform = weights1[1][1])\n",
    "        \n",
    "        #Apply sigmoid in the hidden layer\n",
    "        nengo.Connection(Inp_Hidden_Weights_1, Hidden_Node_1, function = sigmoid)\n",
    "        nengo.Connection(Inp_Hidden_Weights_2, Hidden_Node_2, function = sigmoid)\n",
    "\n",
    "        \n",
    "        \n",
    "        nengo.Connection(Hidden_Node_1, Hidd_Out_Weights_1, transform = weights2[0][0])\n",
    "        nengo.Connection(Hidden_Node_2, Hidd_Out_Weights_1, transform = weights2[1][0])\n",
    "        nengo.Connection(Hidden_Node_1, Hidd_Out_Weights_2, transform = weights2[0][1])\n",
    "        nengo.Connection(Hidden_Node_2, Hidd_Out_Weights_2, transform = weights2[1][1])\n",
    "        \n",
    "        #Apply sigmoid in the hidden layer\n",
    "        nengo.Connection(Hidd_Out_Weights_1, Output_Node_1, function = sigmoid)\n",
    "        nengo.Connection(Hidd_Out_Weights_2, Output_Node_2, function = sigmoid)\n",
    "        \n",
    "        net2_1 = nengo.Probe(Inp_Hidd_Weights_1)\n",
    "        net2_2 = nengo.Probe(Inp_Hidd_Weights_2)\n",
    "        \n",
    "        y2_1 = nengo.Probe(Hidden_Node_1)\n",
    "        y2_2 = nengo.Probe(Hidden_Node_2)\n",
    "        \n",
    "        net3_1 = nengo.Probe(Hidd_Out_Weights_1)\n",
    "        net3_2 = nengo.Probe(Hidd_Out_Weights_2)\n",
    "\n",
    "        z3_1 = nengo.Probe(Output_Node_1, synapse = 0.01)\n",
    "        z3_2 = nengo.Probe(Output_Node_2, synapse = 0.01)\n",
    "    return model"
   ]
  },
  {
   "cell_type": "markdown",
   "metadata": {},
   "source": [
    "# Running and Probing the Model\n",
    "#### Runs the model for specified time. Returns average activity as output."
   ]
  },
  {
   "cell_type": "code",
   "execution_count": 8,
   "metadata": {
    "collapsed": true
   },
   "outputs": [],
   "source": [
    "def run(model, time):\n",
    "    sim = nengo.Simulator(model)\n",
    "    sim.run(1.0)\n",
    "    net2 = numpy.array([numpy.mean(sim.data[net2_1]), numpy.mean(sim.data[net2_2])])\n",
    "    y2 = numpy.array([numpy.mean(sim.data[y2_1]), numpy.mean(sim.data[y2_2])])\n",
    "    net3 = numpy.array([numpy.mean(sim.data[net3_1]), numpy.mean(sim.data[net3_2])])\n",
    "    z3 = numpy.array([numpy.mean(sim.data[z3_1]), numpy.mean(sim.data[z3_2])])                        \n",
    "    return net2, y2, net3, z3"
   ]
  },
  {
   "cell_type": "markdown",
   "metadata": {},
   "source": [
    "#### Learning Weights"
   ]
  },
  {
   "cell_type": "code",
   "execution_count": 9,
   "metadata": {
    "collapsed": true
   },
   "outputs": [],
   "source": [
    "def back_prop(X, Y, num_iters, weights1, weights2):\n",
    "    #print \"Before Back-prop: \", weights2\n",
    "    w2 = weights2\n",
    "    D1 = numpy.zeros(numpy.shape(weights1))\n",
    "    D2 = numpy.zeros(numpy.shape(weights2))\n",
    "    for i in range(num_iters):\n",
    "        for j in range(len(X)):\n",
    "            (net2, y2, net3, z3) = feed_forward(X[j], Y[j], weights1, weights2)\n",
    "            delta3 = (Y[j] - z3) * sigmoid_grad(net3)\n",
    "            delWeights2 = numpy.outer(numpy.transpose(delta3), y2)\n",
    "            delta2 = numpy.dot(delta3, weights2)*sigmoid_grad(net2)\n",
    "            delWeights1 = numpy.outer(numpy.transpose(delta2), X[j])\n",
    "            weights1 = weights1 + 0.01*delWeights1\n",
    "            weights2 = weights2 + 0.01*delWeights2\n",
    "        print \"Iteration\", i, \"complete\"\n",
    "        #print w2 - weights2\n",
    "    return (weights1, weights2)"
   ]
  },
  {
   "cell_type": "code",
   "execution_count": 54,
   "metadata": {},
   "outputs": [
    {
     "name": "stdout",
     "output_type": "stream",
     "text": [
      "Building finished in 0:00:03.                                                   \n",
      "Simulating finished in 0:00:14.                                                 \n",
      "Building finished in 0:00:02.                                                   \n",
      "Simulating finished in 0:00:13.                                                 \n",
      "Building finished in 0:00:02.                                                   \n",
      "Simulating finished in 0:00:18.                                                 \n",
      "Building finished in 0:00:03.                                                   \n",
      "Simulating finished in 0:00:22.                                                 \n",
      "Building finished in 0:00:04.                                                   \n",
      "Simulating finished in 0:00:18.                                                 \n",
      "Building finished in 0:00:05.                                                   \n",
      "Simulating finished in 0:00:25.                                                 \n",
      "Building finished in 0:00:03.                                                   \n",
      "Simulating finished in 0:00:18.                                                 \n",
      "Building finished in 0:00:05.                                                   \n",
      "Simulating finished in 0:00:28.                                                 \n",
      "Building finished in 0:00:03.                                                   \n",
      "Simulating finished in 0:00:20.                                                 \n",
      "Building finished in 0:00:03.                                                   \n",
      "Simulating finished in 0:00:32.                                                 \n"
     ]
    }
   ],
   "source": [
    "model = model_architecture(weights1, weights2, [0, 1])\n",
    "actual = run(model, 1.0)\n",
    "expectation = [0, 1]\n",
    "delta = calculate_delta(actual, expectation)\n",
    "weights1, weights2 = weight_update(weights1, weights2, delta)"
   ]
  },
  {
   "cell_type": "code",
   "execution_count": 56,
   "metadata": {},
   "outputs": [
    {
     "name": "stdout",
     "output_type": "stream",
     "text": [
      "(-0.03563744682724565, 0.026418932761017436)\n"
     ]
    }
   ],
   "source": [
    "print actual"
   ]
  }
 ],
 "metadata": {
  "anaconda-cloud": {},
  "kernelspec": {
   "display_name": "Python 2",
   "language": "python",
   "name": "python2"
  },
  "language_info": {
   "codemirror_mode": {
    "name": "ipython",
    "version": 2
   },
   "file_extension": ".py",
   "mimetype": "text/x-python",
   "name": "python",
   "nbconvert_exporter": "python",
   "pygments_lexer": "ipython2",
   "version": "2.7.12"
  }
 },
 "nbformat": 4,
 "nbformat_minor": 1
}
